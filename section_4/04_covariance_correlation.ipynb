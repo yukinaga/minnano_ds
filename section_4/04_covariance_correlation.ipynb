{
  "nbformat": 4,
  "nbformat_minor": 0,
  "metadata": {
    "colab": {
      "name": "04_covariance_correlation.ipynb",
      "provenance": [],
      "collapsed_sections": [],
      "authorship_tag": "ABX9TyPCXnzy+QEddkLKizsNrCuO",
      "include_colab_link": true
    },
    "kernelspec": {
      "name": "python3",
      "display_name": "Python 3"
    },
    "language_info": {
      "name": "python"
    }
  },
  "cells": [
    {
      "cell_type": "markdown",
      "metadata": {
        "id": "view-in-github",
        "colab_type": "text"
      },
      "source": [
        "<a href=\"https://colab.research.google.com/github/yukinaga/minnano_ds/blob/main/section_4/04_covariance_correlation.ipynb\" target=\"_parent\"><img src=\"https://colab.research.google.com/assets/colab-badge.svg\" alt=\"Open In Colab\"/></a>"
      ]
    },
    {
      "cell_type": "markdown",
      "metadata": {
        "id": "J_xAiNkvcrgB"
      },
      "source": [
        "# 共分散と相関係数\n",
        "2組のデータの関係性を表す数値、共分散と相関係数について解説します。  "
      ]
    },
    {
      "cell_type": "markdown",
      "metadata": {
        "id": "4KsWAUtRcrgD"
      },
      "source": [
        "## ●共分散とは？\n",
        "\n",
        "共分散は、2つのデータ間の関係を表す指標の1つです。\n",
        "\n",
        "$X$、$Y$、2組のデータを、以下のように考えます。両者とも、データの個数は$n$とします。\n",
        "\n",
        "$$X=x_1,x_2,\\cdots ,x_n$$\n",
        "$$Y=y_1,y_2,\\cdots ,y_n$$\n",
        "\n",
        "これらの共分散$Cov(X,Y)$は、以下の式で表されます。\n",
        "\n",
        "（式 1）\n",
        "$$Cov(X,Y)=\\frac{1}{n}\\sum_{k=1}^n (x_k-\\mu_x)(y_k-\\mu_y)$$\n",
        "\n",
        "$\\mu_x$は$X$の平均、$\\mu_y$は$Y$の平均になります。\n",
        "  \n",
        "共分散の意味は、概ね以下のようになります。  \n",
        "\n",
        "\n",
        "---\n",
        "\n",
        "共分散が0より大きい → Xが大きいとYも大きい、Xが小さいとYも小さい傾向がある  \n",
        "共分散が 0 に近い → XとYにあまり関係はない  \n",
        "共分散が0より小さい → Xが大きいとYは小さい、Xが小さいとYは大きい傾向がある  \n",
        "\n",
        "---\n",
        "\n",
        "\n",
        "以下に、共分散の例を挙げます。  \n",
        "$X$を5人の生徒の英語の点数、$Y$を同じ生徒の国語の点数とします。\n",
        "\n",
        "$$X=50, 70, 40, 60, 80$$\n",
        "$$Y=60, 80, 50, 50, 70$$\n",
        "\n",
        "両者ともにデータの個数は5なので、$X$と$Y$の平均値は以下のようにして計算できます。\n",
        "\n",
        "$$\\mu_x = \\frac{50+70+40+60+80}{5} = 60$$\n",
        "$$\\mu_y = \\frac{60+80+50+50+70}{5} = 62$$\n",
        "\n",
        "このとき、共分散は（式 1）を使って以下のように計算することができます。\n",
        "\n",
        "$$ \\begin{aligned} \\\\\n",
        "Cov(X,Y) &= \\frac{(50-60)(60-62)+(70-60)(80-62)+(40-60)(50-62)+(60-60)(50-62)+(80-60)(70-62)}{5} \\\\\n",
        "& = 120\n",
        "\\end{aligned} $$\n",
        "\n",
        "この場合の共分散は、120となりました。これは、英語の点数が高いと国語の点数も高くなる傾向があることを意味します。\n",
        "\n",
        "別の例を考えましょう。以下の$X$を英語の点数、$Z$を体育の点数とします。\n",
        "\n",
        "$$X=50, 70, 40, 60, 80$$\n",
        "$$Z=60, 40, 60, 40, 30$$\n",
        "\n",
        "両者ともにデータの個数は5なので、$X$と$Z$の平均値は以下のように計算できます。\n",
        "\n",
        "$$\\mu_x = \\frac{50+70+40+60+80}{5} = 60$$\n",
        "$$\\mu_z = \\frac{60+40+60+40+30}{5} = 46$$\n",
        "\n",
        "このときの共分散は、（式 1）を使って以下のように計算できます。\n",
        "\n",
        "$$ \\begin{aligned} \\\\\n",
        "Cov(X,Y) &= \\frac{(50-60)(60-46)+(70-60)(40-46)+(40-60)(60-46)+(60-60)(40-46)+(80-60)(30-46)}{5} \\\\\n",
        "& = -160\n",
        "\\end{aligned} $$\n",
        "\n",
        "この場合、共分散は-160となりました。これは、英語の点数が高いと体育の点数が低くなる傾向があることを意味します。  "
      ]
    },
    {
      "cell_type": "markdown",
      "metadata": {
        "id": "IMuirqA-c0TI"
      },
      "source": [
        "## ●相関係数とは？\n",
        "\n",
        "相関係数は、2つのデータの関係の強さを-1から1の範囲で表します。    \n",
        "\n",
        "$X$、$Y$、2組のデータを考えます。両者ともに、データの個数は$n$とします。\n",
        "\n",
        "$$X=x_1,x_2,\\cdots ,x_n$$\n",
        "$$Y=y_1,y_2,\\cdots ,y_n$$\n",
        "\n",
        "これらの間の相関係数$\\rho$は、共分散$Cov(X,Y)$と、XとYそれぞれの標準偏差$\\sigma_X$、$\\sigma_Y$を使って以下のように表されます。\n",
        "\n",
        "（式 2）\n",
        "$$\\rho=\\frac{Cov(X,Y)}{\\sigma_X\\sigma_Y}$$\n",
        "\n",
        "この相関係数$\\rho$の範囲は、$-1\\leqq \\rho \\leqq 1$です。\n",
        "\n",
        "$\\rho$が1に近づくと、正の相関が強くなります。  \n",
        "$\\rho$が0の場合、XとYには相関がありません。  \n",
        "$\\rho$が-1に近づくと、負の相関が強くなります。  \n",
        "\n",
        "相関係数は共分散と似ていますが、$\\rho$の範囲が$-1\\leqq \\rho \\leqq 1$に収まるため、両者の関係の強さを直感的に把握しやすいのがメリットです。\n",
        "\n",
        "相関係数の例を挙げましょう。$X$を英語の点数、$Y$を国語の点数とします。\n",
        "\n",
        "$$X=50, 70, 40, 60, 80$$\n",
        "$$Y=60, 80, 50, 50, 70$$\n",
        "\n",
        "$X$と$Y$の共分散、およびそれぞれの標準偏差は以下の通りに計算できます。  \n",
        "\n",
        "$$Cov(X,Y) = 120$$\n",
        "$$\\sigma_X = 14.14...$$\n",
        "$$\\sigma_Y = 11.66...$$\n",
        "\n",
        "このときの相関係数は（式 2）により以下のように計算できます。\n",
        "\n",
        "$$ \\begin{aligned} \\\\\n",
        "\\rho &= \\frac{Cov(X,Y)}{\\sigma_X\\sigma_Y} \\\\\n",
        "&= \\frac{120}{14.14...\\times 11.66...} \\\\\n",
        "&= 0.7276...\n",
        "\\end{aligned} $$\n",
        "\n",
        "この場合の相関係数は、約0.728となりました。これは、英語の点数が高いと国語の点数も高くなる傾向があることを意味します。\n",
        "\n",
        "別の例を挙げましょう。以下の$X$を英語の点数、$Z$を体育の点数とします。\n",
        "\n",
        "$$X=50, 70, 40, 60, 80$$\n",
        "$$Z=60, 40, 60, 40, 30$$\n",
        "\n",
        "このとき、$X$と$Y$の共分散、およびそれぞれの標準偏差は以下の通りに計算できます。    \n",
        "\n",
        "$$Cov(X,Y) = -160$$\n",
        "$$\\sigma_X = 14.14...$$\n",
        "$$\\sigma_Z = 12.0$$\n",
        "\n",
        "このとき、相関係数は（式 2）により以下の通りに計算できます。\n",
        "\n",
        "$$ \\begin{aligned} \\\\\n",
        "\\rho &= \\frac{Cov(X,Y)}{\\sigma_X\\sigma_Y} \\\\\n",
        "&= \\frac{-160}{14.14...\\times 12.0} \\\\\n",
        "&= -0.9428...\n",
        "\\end{aligned} $$\n",
        "\n",
        "この場合の相関係数は、約-0.943です。強い負の相関があり、英語の点数が高いと体育の点数が大きく下がるようです。  "
      ]
    },
    {
      "cell_type": "markdown",
      "metadata": {
        "id": "xh-AUP8Dc0TK"
      },
      "source": [
        "## ●相関係数の計算\n",
        "相関係数は、以下のようにNumPyの`corrcoef( )`関数を使って計算することができます。  \n",
        "`corrcoef( )`関数の結果は2x2の行列として得られますが、右上と左下の要素が相関係数です。  "
      ]
    },
    {
      "cell_type": "code",
      "metadata": {
        "id": "QFb3F2YFc0TL"
      },
      "source": [
        "import numpy as np\n",
        "import matplotlib.pyplot as plt\n",
        " \n",
        "x = np.array([50, 70, 40, 60, 80])  # 英語の点数\n",
        "y = np.array([60, 80, 50, 50, 70])  # 国語の点数\n",
        "\n",
        "print(\"--- 相関係数: corrcoef関数を使用 ---\")\n",
        "print(np.corrcoef(x, y))  # 相関係数\n",
        "\n",
        "plt.scatter(x, y)\n",
        "\n",
        "plt.xlabel(\"x\", size=14)\n",
        "plt.ylabel(\"y\", size=14)\n",
        "plt.grid()\n",
        "\n",
        "plt.show()"
      ],
      "execution_count": null,
      "outputs": []
    },
    {
      "cell_type": "code",
      "metadata": {
        "id": "G2cA1xc4CZ8_"
      },
      "source": [
        "# 練習用\n"
      ],
      "execution_count": null,
      "outputs": []
    }
  ]
}