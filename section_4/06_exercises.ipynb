{
  "nbformat": 4,
  "nbformat_minor": 0,
  "metadata": {
    "colab": {
      "name": "06_exercises.ipynb",
      "provenance": [],
      "collapsed_sections": [],
      "include_colab_link": true
    },
    "kernelspec": {
      "name": "python3",
      "display_name": "Python 3"
    }
  },
  "cells": [
    {
      "cell_type": "markdown",
      "metadata": {
        "id": "view-in-github",
        "colab_type": "text"
      },
      "source": [
        "<a href=\"https://colab.research.google.com/github/yukinaga/minnano_ds/blob/main/section_4/06_exercises.ipynb\" target=\"_parent\"><img src=\"https://colab.research.google.com/assets/colab-badge.svg\" alt=\"Open In Colab\"/></a>"
      ]
    },
    {
      "cell_type": "markdown",
      "metadata": {
        "id": "9VR4iG1nkWLa"
      },
      "source": [
        "# 演習\n",
        "相関係数を計算するコードを、NumPyが用意した関数を使わずに自分で実装してみましょう。\n",
        "\n"
      ]
    },
    {
      "cell_type": "markdown",
      "metadata": {
        "id": "Yqh1BS6Jzgy8"
      },
      "source": [
        "## 相関係数の計算\n",
        "以下の$X$、$Y$2組のデータを考えます。それぞれ、データの個数は$n$とします。\n",
        "\n",
        "$$X=x_1,x_2,\\cdots ,x_n$$\n",
        "$$Y=y_1,y_2,\\cdots ,y_n$$\n",
        "\n",
        "これらのデータの共分散$Cov(X,Y)$は、以下の式で表されます。\n",
        "\n",
        "\n",
        "$$Cov(X,Y)=\\frac{1}{n}\\sum_{k=1}^n (x_k-\\mu_x)(y_k-\\mu_y)$$\n",
        "\n",
        "ここで、$\\mu_x$は$X$の平均、$\\mu_y$は$Y$の平均です。\n",
        "\n",
        "相関係数$\\rho$は、XとYの共分散$Cov(X,Y)$およびXとYそれぞれの標準偏差$\\sigma_X$、$\\sigma_Y$を用いて以下の式で表されます。\n",
        "\n",
        "$$\\rho=\\frac{Cov(X,Y)}{\\sigma_X\\sigma_Y}$$\n",
        "\n",
        "今回の演習では、この相関係数を、NumPyの`corrcoef( )`関数を使わずに計算するコードを実装します。  \n",
        "以下のセルの、指定された箇所にコードの追記を行い、相関係数が正しく計算できるようにしましょう。    "
      ]
    },
    {
      "cell_type": "code",
      "metadata": {
        "id": "DFv4AIiT6Arx",
        "colab": {
          "base_uri": "https://localhost:8080/",
          "height": 368
        },
        "outputId": "8c5527ab-c38b-4f98-e002-fd39ebbace52"
      },
      "source": [
        "import numpy as np\n",
        "import matplotlib.pyplot as plt\n",
        " \n",
        "x = np.array([50, 70, 40, 60, 80])  # 数学の点数\n",
        "y = np.array([60, 80, 50, 50, 70])  # 英語の点数\n",
        "\n",
        "print(\"--- 相関係数: corrcoef関数を使用 ---\")\n",
        "print(np.corrcoef(x, y))  # 相関係数\n",
        "\n",
        "print(\"--- 相関係数: 自分で実装 ---\")\n",
        "cov_xy =   # ← 共分散を計算するコードを書く\n",
        "rho =   # ← 相関係数を計算するコードを書く\n",
        "print(rho)\n",
        "\n",
        "plt.scatter(x, y)\n",
        "\n",
        "plt.xlabel(\"x\", size=14)\n",
        "plt.ylabel(\"y\", size=14)\n",
        "plt.grid()\n",
        "\n",
        "plt.show()"
      ],
      "execution_count": 3,
      "outputs": [
        {
          "output_type": "stream",
          "text": [
            "--- 相関係数: corrcoef関数を使用 ---\n",
            "[[1.         0.72760688]\n",
            " [0.72760688 1.        ]]\n",
            "--- 相関係数: 自分で実装 ---\n",
            "0.7276068751089989\n"
          ],
          "name": "stdout"
        },
        {
          "output_type": "display_data",
          "data": {
            "image/png": "[encoded data removed]",
            "text/plain": [
              "<Figure size 432x288 with 1 Axes>"
            ]
          },
          "metadata": {
            "tags": [],
            "needs_background": "light"
          }
        }
      ]
    },
    {
      "cell_type": "markdown",
      "metadata": {
        "id": "TmGJE24E-51R"
      },
      "source": [
        "# 解答例\n",
        "以下は解答例です。  \n",
        "どうしてもわからない時のみ、参考にしましょう。"
      ]
    },
    {
      "cell_type": "code",
      "metadata": {
        "id": "zq_9P1oB3bN_"
      },
      "source": [
        "import numpy as np\n",
        "import matplotlib.pyplot as plt\n",
        " \n",
        "x = np.array([50, 70, 40, 60, 80])  # 数学の点数\n",
        "y = np.array([60, 80, 50, 50, 70])  # 英語の点数\n",
        "\n",
        "print(\"--- 相関係数: corrcoef関数を使用 ---\")\n",
        "print(np.corrcoef(x, y))  # 相関係数\n",
        "\n",
        "print(\"--- 相関係数: 自分で実装 ---\")\n",
        "cov_xy = np.average((x-np.average(x))*(y-np.average(y)))  # ← 共分散を計算するコードを書く\n",
        "rho = cov_xy/(np.std(x)*np.std(y))  # ← 相関係数を計算するコードを書く\n",
        "print(rho)\n",
        "\n",
        "plt.scatter(x, y)\n",
        "\n",
        "plt.xlabel(\"x\", size=14)\n",
        "plt.ylabel(\"y\", size=14)\n",
        "plt.grid()\n",
        "\n",
        "plt.show()"
      ],
      "execution_count": null,
      "outputs": []
    }
  ]
}