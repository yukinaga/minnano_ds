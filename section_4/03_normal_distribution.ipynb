{
  "nbformat": 4,
  "nbformat_minor": 0,
  "metadata": {
    "colab": {
      "name": "03_normal_distribution.ipynb",
      "provenance": [],
      "collapsed_sections": [],
      "authorship_tag": "ABX9TyOgq7n4KnpSmpuDtiV70wNL",
      "include_colab_link": true
    },
    "kernelspec": {
      "name": "python3",
      "display_name": "Python 3"
    },
    "language_info": {
      "name": "python"
    }
  },
  "cells": [
    {
      "cell_type": "markdown",
      "metadata": {
        "id": "view-in-github",
        "colab_type": "text"
      },
      "source": [
        "<a href=\"https://colab.research.google.com/github/yukinaga/minnano_ds/blob/main/section_4/03_normal_distribution.ipynb\" target=\"_parent\"><img src=\"https://colab.research.google.com/assets/colab-badge.svg\" alt=\"Open In Colab\"/></a>"
      ]
    },
    {
      "cell_type": "markdown",
      "metadata": {
        "id": "145AN0foOUGI"
      },
      "source": [
        "# 正規分布\n",
        "最もよく使われるデータの分布である、「正規分布」について解説します。  "
      ]
    },
    {
      "cell_type": "markdown",
      "metadata": {
        "id": "lYdvJwhwYv-z"
      },
      "source": [
        "## ●ネイピア数のべき乗\n",
        "ネイピア数$e$は数学的に扱いやすい値なので、分布や確率を扱う際によく使われます。  \n",
        "ネイピア数のべき乗$e^x$は、以下のように$\\exp$を使ってよく表されます。  \n",
        "\n",
        "$$\\exp(x)$$\n",
        "\n",
        "NumPyでは、`np.e`によりネイピア数を取得することができます。また、`np.exp( )`関数によりネイピア数のべき乗を計算することができます。  "
      ]
    },
    {
      "cell_type": "code",
      "metadata": {
        "id": "kaJ0wjwpYzLG"
      },
      "source": [
        "print(np.e)  # ネイピア数\n",
        "print(np.exp(1))  # ネイピア数の1乗\n",
        "print(np.e**2)  # ネイピア数の2乗\n",
        "print(np.exp(2))  # ネイピア数の2乗"
      ],
      "execution_count": null,
      "outputs": []
    },
    {
      "cell_type": "markdown",
      "metadata": {
        "id": "8u5fYTGrbHoX"
      },
      "source": [
        "ネイピア数を使った以下の式により、釣鐘状の曲線を描くことができます。  \n",
        "\n",
        "$$y=\\exp(-x^2)$$\n"
      ]
    },
    {
      "cell_type": "code",
      "metadata": {
        "id": "1d6DnNdaZXFC"
      },
      "source": [
        "import numpy as np\n",
        "import matplotlib.pyplot as plt\n",
        "\n",
        "x = np.linspace(-3, 3)\n",
        "y = np.exp(-x**2)\n",
        "\n",
        "plt.plot(x, y)\n",
        "plt.show()"
      ],
      "execution_count": null,
      "outputs": []
    },
    {
      "cell_type": "markdown",
      "metadata": {
        "id": "-UqMPdhmbxHZ"
      },
      "source": [
        "このような釣鐘状の曲線が、正規分布で利用されます。  "
      ]
    },
    {
      "cell_type": "markdown",
      "metadata": {
        "id": "jXCvN0c9OUGK"
      },
      "source": [
        "## ●正規分布とは？\n",
        "\n",
        "「正規分布」（normal distribution）は、自然界の様々な現象に対してよく当てはまるデータの分布です。  \n",
        "例えば、身長や体重、テストの成績、工業製品のサイズなどは正規分布におおよそ従います。  \n",
        "\n",
        "正規分布において、ある値$x$が得られる確率$f(x)$は、以下の確率密度関数と呼ばれる関数で表されます。  \n",
        "\n",
        "$$ f(x)=\\frac{1}{ \\sigma\\sqrt{2\\pi}}\\exp(-\\frac{(x-\\mu)^2}{2\\sigma ^2}) $$ \n",
        "\n",
        "ここで、$\\mu$は平均値で分布の中央となり、$\\sigma$は標準偏差で分布の広がり具合を表します。  \n",
        "\n",
        "上記の式は少々複雑ですが、平均値を0、標準偏差を1とすると以下のように比較的シンプルな形になります。\n",
        "\n",
        "$$ f(x)=\\frac{1}{\\sqrt{2\\pi}}\\exp(-\\frac{x^2}{2}) $$ \n",
        "\n",
        "それでは、確率密度関数を使って正規分布の曲線を描画しましょう。平均値は0に固定し、標準偏差を3通りにして3つの曲線を描画します。  "
      ]
    },
    {
      "cell_type": "code",
      "metadata": {
        "id": "RQy5-Cy9OUGL"
      },
      "source": [
        "import numpy as np\n",
        "import matplotlib.pyplot as plt\n",
        "\n",
        "def pdf(x, mu, sigma):  # mu: 平均値  sigma: 標準偏差\n",
        "    return 1/(sigma*np.sqrt(2*np.pi))*np.exp(-(x-mu)**2 / (2*sigma**2))  # 確率密度関数\n",
        "\n",
        "x = np.linspace(-5, 5)\n",
        "y_1 = pdf(x, 0.0, 0.5)  # 平均値が0で標準偏差が0.5\n",
        "y_2 = pdf(x, 0.0, 1.0)  # 平均値が0で標準偏差が1\n",
        "y_3 = pdf(x, 0.0, 2.0)  # 平均値が0で標準偏差が2\n",
        "\n",
        "plt.plot(x, y_1, label=\"σ: 0.5\")\n",
        "plt.plot(x, y_2, label=\"σ: 1.0\")\n",
        "plt.plot(x, y_3, label=\"σ: 2.0\")\n",
        "plt.legend()\n",
        "\n",
        "plt.xlabel(\"x\")\n",
        "plt.ylabel(\"y\")\n",
        "plt.grid()\n",
        "\n",
        "plt.show()"
      ],
      "execution_count": null,
      "outputs": []
    },
    {
      "cell_type": "markdown",
      "metadata": {
        "id": "qe6x2mX6OUGN"
      },
      "source": [
        "標準偏差は値のばらつき具合を表すのですが、これが小さいと曲線の幅が狭くなり、大きいと幅が広くなります。  \n",
        "また、正規分布の曲線とx軸に挟まれた領域の面積は1になります。これは、確率の総和が1であることに対応します。"
      ]
    },
    {
      "cell_type": "markdown",
      "metadata": {
        "id": "Qgdcw_hzOUGO"
      },
      "source": [
        "## ●正規分布に従う乱数\n",
        "正規分布に従う乱数は、NumPyの`random.normal( )`関数を使って生成することがます。  \n",
        "以下のコードは、生成されたデータの分布をmatplotlibの`hist( )`関数でヒストグラムとして表示します。  "
      ]
    },
    {
      "cell_type": "code",
      "metadata": {
        "id": "ZQ-ezpkwOUGO"
      },
      "source": [
        "import numpy as np\n",
        "import matplotlib.pyplot as plt\n",
        " \n",
        "# 正規分布に従う乱数を生成\n",
        "s = np.random.normal(0, 1, 10000)  # 平均0、標準偏差1、10000個\n",
        "\n",
        "# ヒストグラム\n",
        "plt.hist(s, bins=25)  # binsは棒の数\n",
        "\n",
        "plt.xlabel(\"x\", size=14)\n",
        "plt.grid()\n",
        "\n",
        "plt.show()"
      ],
      "execution_count": null,
      "outputs": []
    },
    {
      "cell_type": "markdown",
      "metadata": {
        "id": "Arcz8DwnOUGO"
      },
      "source": [
        "生成されたデータの分布は、釣鐘状の形状となりました。確率密度関数の形状とほぼ同じですね。"
      ]
    }
  ]
}