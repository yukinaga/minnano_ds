{
  "nbformat": 4,
  "nbformat_minor": 0,
  "metadata": {
    "colab": {
      "name": "01_probability_basic.ipynb",
      "provenance": [],
      "collapsed_sections": [],
      "authorship_tag": "ABX9TyP8uQyCXpnxWtMNPU9F3P7t",
      "include_colab_link": true
    },
    "kernelspec": {
      "name": "python3",
      "display_name": "Python 3"
    },
    "language_info": {
      "name": "python"
    }
  },
  "cells": [
    {
      "cell_type": "markdown",
      "metadata": {
        "id": "view-in-github",
        "colab_type": "text"
      },
      "source": [
        "<a href=\"https://colab.research.google.com/github/yukinaga/minnano_ds/blob/main/section_4/01_probability_basic.ipynb\" target=\"_parent\"><img src=\"https://colab.research.google.com/assets/colab-badge.svg\" alt=\"Open In Colab\"/></a>"
      ]
    },
    {
      "cell_type": "markdown",
      "metadata": {
        "id": "q5OmvSsgkb4C"
      },
      "source": [
        "# 確率の基礎\n",
        "確率は世界を「起こりやすさ」として捉えます。現実世界の現象を表現するために、とても有用な概念です。"
      ]
    },
    {
      "cell_type": "markdown",
      "metadata": {
        "id": "iUKyX2P1zfic"
      },
      "source": [
        "## ●確率とは？\n",
        "\n",
        "「確率」（Probability）とは、はある現象が起きることが期待される度合いのことです。  \n",
        "確率は以下の式で表されます。  \n",
        "\n",
        "$$P(A)=\\frac{a}{n}$$\n",
        "\n",
        "この式において、$P(A)$は事象$A$が起きる確率、$a$は事象Aが起きる場合の数、$n$は全ての場合の数です。\n",
        "\n",
        "コインを投げを例として考えましょう。コインを投げて落ちたときに上になる面は表と裏の2通りです。どちらの面が上になるのも、同じ程度に期待されるとします。  \n",
        "このとき、場合の数は2です。そして、表の面が出るという事象$A$の場合の数は1です。  \n",
        "従って、確率は以下の通りになります。\n",
        "\n",
        "$$P(A)=\\frac{a}{n}=\\frac{1}{2}$$\n",
        "\n",
        "$\\frac{1}{2}$なので、表が上になるという事象は50%期待されることになります。  \n",
        "  \n",
        "次にサイコロの例を考えます。サイコロで3が出るという事象Aが起きる確率は、事象Aの場合の数が1で、全ての場合の数が6なので、以下の通りになります。  \n",
        "\n",
        "$$P(A)=\\frac{a}{n}=\\frac{1}{6}$$\n",
        "\n",
        "$\\frac{1}{6}$なので、約16.7%期待されることになります。\n",
        "\n",
        "次に、2つのサイコロを振って、目の合計が4になる確率を求めます。  \n",
        "目の合計が4になるという事象Aは、(1, 3)、(2, 2)、（3, 1）の3つあります。  \n",
        "場合の数は、全部で$6\\times 6=36$通りです。  \n",
        "この場合の確率は、以下の通りにです。\n",
        "\n",
        "$$P(A)=\\frac{a}{n}=\\frac{3}{36}=\\frac{1}{12}$$\n",
        "\n",
        "$\\frac{1}{12}$なので約8.3%です。2つのサイコロを振って合計が4になるのは、8.3%程度期待できることになります。"
      ]
    },
    {
      "cell_type": "markdown",
      "metadata": {
        "id": "uLHlZcRIzfid"
      },
      "source": [
        "## ●余事象\n",
        "事象 $A$ に対して「$A$が起こらないという事象」を$A$の「余事象」といいます。$A$の余事象は、$\\bar{A}$などと表します。\n",
        "\n",
        "余事象$\\bar{A}$が起きる確率ですが、事象$A$が起きる確率$P(A)$を使って以下のように求めることができます。  \n",
        "\n",
        "$$P(\\bar{A})=1-P(A)$$\n",
        "\n",
        "先程の例では、2つのサイコロを振って目の合計が4になる確率は$\\frac{1}{12}$でした。これを使って、「2つのサイコロを振って目の合計が4以外になる確率」を以下の通りに求めることができます。\n",
        "\n",
        "$$P(\\bar{A})=1-\\frac{1}{12}=\\frac{11}{12}$$\n",
        "\n",
        "約91.7%の確率で、目の合計は4以外になることになります。\n",
        "\n",
        "目の合計が4以外になる全ての場合を挙げるのには手間がかかりますが、余事象を使うことで確率は簡単に求めることができます。"
      ]
    },
    {
      "cell_type": "markdown",
      "metadata": {
        "id": "h98GcJ6pzM3a"
      },
      "source": [
        "## ●乱数とは？\n",
        "例えばサイコロを投げる場合、上の面が決まるまで1-6のどれが出るのか分かりません。「乱数」とは、このような未確定の数値です。  \n",
        "以下のコードは、NumPyの`random.randint( )`を使って、サイコロのように1-6の値をランダムに返すコードです。`randint( )`関数に整数$n$を引数として渡すと、$0$から$n-1$までの整数の乱数を返します。  "
      ]
    },
    {
      "cell_type": "code",
      "metadata": {
        "id": "L64-c7wdzM3a"
      },
      "source": [
        "import numpy as np\n",
        "\n",
        "r_int = np.random.randint(6) + 1  # 0から5までの乱数に、1を加える\n",
        "print(r_int)  # 1から6までがランダムに表示される"
      ],
      "execution_count": null,
      "outputs": []
    },
    {
      "cell_type": "code",
      "metadata": {
        "id": "G2cA1xc4CZ8_"
      },
      "source": [
        "# 練習用\n"
      ],
      "execution_count": null,
      "outputs": []
    },
    {
      "cell_type": "markdown",
      "metadata": {
        "id": "zxVkatm_zM3b"
      },
      "source": [
        "NumPyの`random.rand()`関数を使うと、0から1までの間の小数をランダムに取得することができます。"
      ]
    },
    {
      "cell_type": "code",
      "metadata": {
        "id": "RHqWbrq8zM3c"
      },
      "source": [
        "import numpy as np\n",
        "\n",
        "r_dec = np.random.rand()   # 0から1の間の小数を、ランダムに返す\n",
        "print(r_dec)"
      ],
      "execution_count": null,
      "outputs": []
    },
    {
      "cell_type": "code",
      "metadata": {
        "id": "HaI-RP4poCPt"
      },
      "source": [
        "# 練習用\n"
      ],
      "execution_count": null,
      "outputs": []
    },
    {
      "cell_type": "markdown",
      "metadata": {
        "id": "fpeCK0IwzM3d"
      },
      "source": [
        "## ●均一な乱数\n",
        "先述の`random.rand()`関数は、0から1の間の小数を均等な確率で返します。この関数に整数`a`を引数として渡すと、そのような小数を`a`個得ることができます。  \n",
        "以下のコードは、多数の均一な乱数をx座標、y座標として、散布図にプロットします。実行することで、`random.rand()`により得られる乱数が均一であることが確認できます。  "
      ]
    },
    {
      "cell_type": "code",
      "metadata": {
        "id": "F6WdR3xQzM3d"
      },
      "source": [
        "import numpy as np\n",
        "import matplotlib.pyplot as plt\n",
        "\n",
        "n = 1000  # サンプル数\n",
        "x = np.random.rand(n)  # 0-1の均一な乱数\n",
        "y = np.random.rand(n)  # 0-1の均一な乱数\n",
        "\n",
        "plt.scatter(x, y)  # 散布図のプロット\n",
        "plt.grid()\n",
        "plt.show()"
      ],
      "execution_count": null,
      "outputs": []
    },
    {
      "cell_type": "code",
      "metadata": {
        "id": "GjmS0L_HoC5e"
      },
      "source": [
        "# 練習用\n"
      ],
      "execution_count": null,
      "outputs": []
    },
    {
      "cell_type": "markdown",
      "metadata": {
        "id": "bHM4Ohb4zM3e"
      },
      "source": [
        "## ●偏った乱数\n",
        "NumPyの`random.randn( )`関数は、後のレクチャーで解説する「正規分布」という分布に従う確率で乱数を返します。正規分布では、中央で確率が高く、両端で確率が低くなります。  \n",
        "以下のコードは、正規分布に従う多数の乱数をx座標、y座標として散布図にプロットします。"
      ]
    },
    {
      "cell_type": "code",
      "metadata": {
        "id": "wEMp3LkYzM3e"
      },
      "source": [
        "import numpy as np\n",
        "import matplotlib.pyplot as plt\n",
        "\n",
        "n = 1000  # サンプル数\n",
        "x = np.random.randn(n)  # 正規分布に従う乱数\n",
        "y = np.random.randn(n)  # 正規分布に従う乱数\n",
        "\n",
        "plt.scatter(x, y)  # 散布図のプロット\n",
        "plt.grid()\n",
        "plt.show()"
      ],
      "execution_count": null,
      "outputs": []
    },
    {
      "cell_type": "code",
      "metadata": {
        "id": "6RmF9fZLoDtk"
      },
      "source": [
        "# 練習用\n"
      ],
      "execution_count": null,
      "outputs": []
    },
    {
      "cell_type": "markdown",
      "metadata": {
        "id": "gy3NkDtzzfie"
      },
      "source": [
        "## ●確率への収束\n",
        "(事象の発生数/試行数)はやがて確率に収束していきます。  \n",
        "以下のコードは、サイコロを何度も振って5が出た回数を数え、(5が出た回数/振った回数)の推移を表示するコードです。  \n",
        "試行を重ねるにつれて、(5が出た回数/試行数)が確率（約16.7%）に収束していくことを確認しましょう。  "
      ]
    },
    {
      "cell_type": "code",
      "metadata": {
        "id": "qAbwSxUuzfie"
      },
      "source": [
        "import numpy as np\n",
        "import matplotlib.pyplot as plt\n",
        "\n",
        "x = []\n",
        "y = []\n",
        "total = 0  # 試行数\n",
        "num_5 = 0  # 5が出た回数\n",
        "n = 10000  # サイコロを振る回数\n",
        "\n",
        "for i in range(n):\n",
        "    \n",
        "    if np.random.randint(6)+1 == 5:  # 0-5までのランダムな数に1を加えて1-6に\n",
        "        num_5 += 1\n",
        "        \n",
        "    total += 1\n",
        "    x.append(i)\n",
        "    y.append(num_5/total)\n",
        "    \n",
        "plt.plot(x, y)\n",
        "plt.plot(x, [1/6]*n, linestyle=\"dashed\")  # yは1/6がn個入ったリスト\n",
        "plt.grid()\n",
        "plt.show()"
      ],
      "execution_count": null,
      "outputs": []
    },
    {
      "cell_type": "code",
      "metadata": {
        "id": "hL-xZXFloEo2"
      },
      "source": [
        "# 練習用\n"
      ],
      "execution_count": null,
      "outputs": []
    }
  ]
}