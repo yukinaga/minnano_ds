{
  "nbformat": 4,
  "nbformat_minor": 0,
  "metadata": {
    "colab": {
      "name": "02_python_basic_2.ipynb",
      "provenance": [],
      "collapsed_sections": [],
      "authorship_tag": "ABX9TyPdjxknDZNDHdnEKg4+DwZF",
      "include_colab_link": true
    },
    "kernelspec": {
      "name": "python3",
      "display_name": "Python 3"
    }
  },
  "cells": [
    {
      "cell_type": "markdown",
      "metadata": {
        "id": "view-in-github",
        "colab_type": "text"
      },
      "source": [
        "<a href=\"https://colab.research.google.com/github/yukinaga/minnano_ds/blob/main/section_2/02_python_basic_2.ipynb\" target=\"_parent\"><img src=\"https://colab.research.google.com/assets/colab-badge.svg\" alt=\"Open In Colab\"/></a>"
      ]
    },
    {
      "cell_type": "markdown",
      "metadata": {
        "id": "QK1qtAbx7DCH"
      },
      "source": [
        "# Pythonの基礎2\n",
        "リストや分岐、ループなどについて学んでいきます。"
      ]
    },
    {
      "cell_type": "markdown",
      "metadata": {
        "id": "BBT3UlBN7DCX"
      },
      "source": [
        "## ●リスト\n",
        "**リスト**は、複数の値をまとめて扱う場合に使用します。  \n",
        "リストは全体を`[]`で囲み、各要素は`,`で区切ります。  "
      ]
    },
    {
      "cell_type": "code",
      "metadata": {
        "id": "Qi_hyR077DCY"
      },
      "source": [
        "a = [2011, 2012, 2013, 2014, 2015]  # リストの作成\n",
        "\n",
        "print(a[0])  # 先頭から0番目の要素\n",
        "print(a[1])  # 先頭から1番目の要素\n",
        "print(a[2])  # 先頭から2番目の要素"
      ],
      "execution_count": null,
      "outputs": []
    },
    {
      "cell_type": "code",
      "metadata": {
        "id": "8uCyuQHR_4M0"
      },
      "source": [
        "# 練習用\n"
      ],
      "execution_count": null,
      "outputs": []
    },
    {
      "cell_type": "markdown",
      "metadata": {
        "id": "FsL7GD6p_xL7"
      },
      "source": [
        "リストでは、変数名の直後に`[ ]`を記述することで各要素を取り出すことができます。   \n",
        "Pythonのリストはどのような値でも格納することができます。"
      ]
    },
    {
      "cell_type": "code",
      "metadata": {
        "id": "eQyRokhrCutm"
      },
      "source": [
        "b = 2016\n",
        "c = [b, 2017, 20.1, \"Hello\", \"Hi\"]\n",
        "print(c[1:4])  # 先頭から1番目以上、4番目未満の範囲"
      ],
      "execution_count": null,
      "outputs": []
    },
    {
      "cell_type": "code",
      "metadata": {
        "id": "GCqOwdJPFAb8"
      },
      "source": [
        "# 練習用\n"
      ],
      "execution_count": null,
      "outputs": []
    },
    {
      "cell_type": "markdown",
      "metadata": {
        "id": "xTCNxy9IESfE"
      },
      "source": [
        "リストの中にリストを格納することもできます。"
      ]
    },
    {
      "cell_type": "code",
      "metadata": {
        "id": "T1cpxD79GBcu"
      },
      "source": [
        "d =[[2012, 2013, 2014], [2015, 2016, 2017]]\n",
        "print(d[0])  # 先頭から0番目の要素"
      ],
      "execution_count": null,
      "outputs": []
    },
    {
      "cell_type": "code",
      "metadata": {
        "id": "ScUcc8ycGXrW"
      },
      "source": [
        "# 練習用\n"
      ],
      "execution_count": null,
      "outputs": []
    },
    {
      "cell_type": "markdown",
      "metadata": {
        "id": "eF1dmMxzQK0-"
      },
      "source": [
        "リストは、作成後に要素を変更することができます。  \n",
        "また、appendにより要素を追加することができます。"
      ]
    },
    {
      "cell_type": "code",
      "metadata": {
        "id": "QqTepYh6QuMa"
      },
      "source": [
        "e = [\"Py\", 543.21, 79, \"thon\", [2018, 2019, 2020]]\n",
        "print(e)\n",
        "\n",
        "# 要素の変更\n",
        "e[2] = 99\n",
        "print(e)\n",
        "\n",
        "# 要素の追加\n",
        "e.append(2021)\n",
        "print(e)"
      ],
      "execution_count": null,
      "outputs": []
    },
    {
      "cell_type": "code",
      "metadata": {
        "id": "XqeoFPxMqNwb"
      },
      "source": [
        "# 練習用\n"
      ],
      "execution_count": null,
      "outputs": []
    },
    {
      "cell_type": "markdown",
      "metadata": {
        "id": "GeQVpswkLLvU"
      },
      "source": [
        "リストにより、多くの値を効率よく扱うことが可能になります。"
      ]
    },
    {
      "cell_type": "markdown",
      "metadata": {
        "id": "33Tx-KRc7DCZ"
      },
      "source": [
        "## ●タプル\n",
        "**タプル**はリストと同じく複数の値をまとめて扱いたいときに利用しますが、要素の追加や削除、入れ替えなどはできません。  \n",
        "タプルは全体を`()`で囲み、各要素は`,`で区切ります。  \n",
        "要素を変更する予定が無い場合は、リストよりもタプルを使用する方がベターです。  \n",
        "以下では、リストとタプルを比較しています。  "
      ]
    },
    {
      "cell_type": "code",
      "metadata": {
        "id": "uMW9UFiP7DCa"
      },
      "source": [
        "a = [2012, 2013, 2014]  # リスト\n",
        "b = (2012, 2013, 2014)  # タプル\n",
        "\n",
        "print(a)\n",
        "print(b)\n",
        "\n",
        "print(a[1])\n",
        "print(b[1])\n",
        "\n",
        "a[1] = 2016\n",
        "print(a)\n",
        "\n",
        "# b[1] = 2016  # エラーが発生\n",
        "# print(b)\n",
        "\n",
        "a.append(2015)\n",
        "print(a)\n",
        "\n",
        "# b.append(2015)  # エラーが発生\n",
        "# print(b)"
      ],
      "execution_count": null,
      "outputs": []
    },
    {
      "cell_type": "code",
      "metadata": {
        "id": "htyvMHuSqsEf"
      },
      "source": [
        "# 練習用\n"
      ],
      "execution_count": null,
      "outputs": []
    },
    {
      "cell_type": "markdown",
      "metadata": {
        "id": "KrLdlqyL7DCc"
      },
      "source": [
        "タプルの要素を変更したり、タプルに要素を追加しようとするとエラーが発生します。"
      ]
    },
    {
      "cell_type": "markdown",
      "metadata": {
        "id": "NkynT8abLLvF"
      },
      "source": [
        "## ●辞書\n",
        "**辞書**は、キーと値の組合せでデータを格納します。　  \n",
        "以下は、Pythonの辞書を扱う例です。  \n",
        "文字列をキーとして辞書を作成し、値の取得や入れ替え、要素の追加を行なっています。"
      ]
    },
    {
      "cell_type": "code",
      "metadata": {
        "id": "_Mrxui8mLQ5P"
      },
      "source": [
        "a = {\"Taro\":1985, \"Hanako\":1986}  # 辞書の作成\n",
        "print(a[\"Taro\"])   # \"Taro\"のキーを持つ値を取得\n",
        "\n",
        "a[\"Hanako\"] = 1987  # 要素の入れ替え\n",
        "print(a)\n",
        "\n",
        "a[\"Jiro\"] = 1989  # 要素の追加\n",
        "print(a)"
      ],
      "execution_count": null,
      "outputs": []
    },
    {
      "cell_type": "code",
      "metadata": {
        "id": "srGuibNYsDrJ"
      },
      "source": [
        "# 練習用\n"
      ],
      "execution_count": null,
      "outputs": []
    },
    {
      "cell_type": "markdown",
      "metadata": {
        "id": "uEXLmC08sxOD"
      },
      "source": [
        "辞書は、キーを使って多数の値を管理したい際に使用します。"
      ]
    },
    {
      "cell_type": "markdown",
      "metadata": {
        "id": "vOkphdpi7DCh"
      },
      "source": [
        "## ●if文  \n",
        "**if**文により条件分岐を行うことができます。  \n",
        "ifの右側が`True`であればその次の処理が、`False`であればelseの次の処理が実行されます。  \n",
        "以下のコードは、`a`の値が5であれば足し算を行い、5でなければ掛け算を行います。  \n"
      ]
    },
    {
      "cell_type": "code",
      "metadata": {
        "id": "tubP_tFRzohW"
      },
      "source": [
        "a = 5\n",
        "\n",
        "if a == 5:  # aと5は等しいのでifの右はTrue\n",
        "    print(\"3+4=\")\n",
        "    print(3+4)\n",
        "else:\n",
        "    print(\"3×4=\")\n",
        "    print(3*4)"
      ],
      "execution_count": null,
      "outputs": []
    },
    {
      "cell_type": "code",
      "metadata": {
        "id": "DEzLifnOsXl9"
      },
      "source": [
        "# 練習用\n"
      ],
      "execution_count": null,
      "outputs": []
    },
    {
      "cell_type": "markdown",
      "metadata": {
        "id": "rr_1KJ0r2Os5"
      },
      "source": [
        "分岐後の処理の行頭には、複数のスペースからなる「インデント」を挿入します。  \n",
        "インデントは通常半角スペース4つを使用します。  \n",
        "    \n",
        "3つ以上の分岐を行う際には、`elif`を使用します。  \n"
      ]
    },
    {
      "cell_type": "code",
      "metadata": {
        "id": "fod0Q-CY1k-8"
      },
      "source": [
        "b = 4\n",
        "\n",
        "if b < 3:\n",
        "    print(\"Hello!\")\n",
        "elif b < 5:  # ifの右側がFalseの場合\n",
        "    print(\"Hi!\")\n",
        "else:  # if、elifの右側がFalseの場合\n",
        "    print(\"Yeah!\")"
      ],
      "execution_count": null,
      "outputs": []
    },
    {
      "cell_type": "code",
      "metadata": {
        "id": "NzpzGvXBsnoC"
      },
      "source": [
        "# 練習用\n"
      ],
      "execution_count": null,
      "outputs": []
    },
    {
      "cell_type": "markdown",
      "metadata": {
        "id": "6bf9rfImsqRl"
      },
      "source": [
        "`elif`を並べることで、さらに多くの分岐を行うことが可能になります。"
      ]
    },
    {
      "cell_type": "code",
      "metadata": {
        "id": "mgzqzezO7DCh"
      },
      "source": [
        "time = 20\n",
        "\n",
        "if time < 12:\n",
        "    print(\"Good morning!\")\n",
        "elif time < 17:\n",
        "    print(\"Good afternoon!\")\n",
        "elif time < 21:\n",
        "    print(\"Good evening!\")\n",
        "else:\n",
        "    print(\"Good night!\")"
      ],
      "execution_count": null,
      "outputs": []
    },
    {
      "cell_type": "code",
      "metadata": {
        "id": "MajMrIr6uYFj"
      },
      "source": [
        "# 練習用\n"
      ],
      "execution_count": null,
      "outputs": []
    },
    {
      "cell_type": "markdown",
      "metadata": {
        "id": "4ikn14Eq7DCj"
      },
      "source": [
        "## ●for文\n",
        "**for**文を使えば、同じ処理を繰り返し実行することができます。  \n",
        "以下の例は、リストをとfor文を使ったループ処理です。  "
      ]
    },
    {
      "cell_type": "code",
      "metadata": {
        "id": "qf8iaf9V7DCj"
      },
      "source": [
        "a = [2001, 2002, 2003, 2004, 2005]\n",
        "for i in a:  # iにはリストaの各要素が入る\n",
        "    print(i + 10)  # 行頭にインデントを入れる"
      ],
      "execution_count": null,
      "outputs": []
    },
    {
      "cell_type": "code",
      "metadata": {
        "id": "ydtFlmi62SFw"
      },
      "source": [
        "# 練習用\n"
      ],
      "execution_count": null,
      "outputs": []
    },
    {
      "cell_type": "markdown",
      "metadata": {
        "id": "QhR-cy3d2T83"
      },
      "source": [
        "繰り返し行う処理には行頭にインデントを挿入します。  \n",
        "  \n",
        "ループ内で連番の整数を使う場合は、`range`を使用します。  \n",
        "以下の例では、`i`に0から5までの整数が入ります。  "
      ]
    },
    {
      "cell_type": "code",
      "metadata": {
        "id": "BS44zQjq2cLy"
      },
      "source": [
        "for i in range(0, 6):  # iには0以上6未満の整数が入る\n",
        "    print(i * 2)"
      ],
      "execution_count": null,
      "outputs": []
    },
    {
      "cell_type": "code",
      "metadata": {
        "id": "d38PRmcY4C-B"
      },
      "source": [
        "# 練習用\n"
      ],
      "execution_count": null,
      "outputs": []
    },
    {
      "cell_type": "markdown",
      "metadata": {
        "id": "0vD9S7yM4Ova"
      },
      "source": [
        "for文によるループを使うことで、冗長なコードを簡潔にまとめることが可能になります。"
      ]
    },
    {
      "cell_type": "markdown",
      "metadata": {
        "id": "FKQ9lg_NFEoJ"
      },
      "source": [
        "## ●while文\n",
        "ある条件が満たされている間ループするためには、**while**文を用います。"
      ]
    },
    {
      "cell_type": "code",
      "metadata": {
        "id": "vFVOuNokFKV3"
      },
      "source": [
        "print(\"--- 10未満 ---\")\n",
        "a = 0\n",
        "while a < 10:  # aが10未満である間ループ\n",
        "    print(a)\n",
        "    a += 1  # aに1を加える\n",
        "\n",
        "print(\"--- 10と等しくない ---\")\n",
        "b = 0\n",
        "while b != 10:  # bが10と等しくない限りループ\n",
        "    print(b)\n",
        "    b += 1"
      ],
      "execution_count": null,
      "outputs": []
    },
    {
      "cell_type": "code",
      "metadata": {
        "id": "W94f0JFR9p3p"
      },
      "source": [
        "# 練習用\n"
      ],
      "execution_count": null,
      "outputs": []
    },
    {
      "cell_type": "markdown",
      "metadata": {
        "id": "jdyK90d_GJzn"
      },
      "source": [
        "## ●分岐とループの組み合わせ\n",
        "分岐とループを組み合わせることで、条件が満たされた処理のみをループ内で実行することが可能になります。"
      ]
    },
    {
      "cell_type": "code",
      "metadata": {
        "id": "qncEVtHrHNkM"
      },
      "source": [
        "a = []  # 空のリスト\n",
        "for i in range(0, 10):\n",
        "    if i%2 == 0:  # 偶数であれば\n",
        "        a.append(i)\n",
        "\n",
        "print (a)"
      ],
      "execution_count": null,
      "outputs": []
    },
    {
      "cell_type": "code",
      "metadata": {
        "id": "bwW7OyfbBiKR"
      },
      "source": [
        "# 練習用\n"
      ],
      "execution_count": null,
      "outputs": []
    }
  ]
}