{
  "nbformat": 4,
  "nbformat_minor": 0,
  "metadata": {
    "colab": {
      "name": "04_exercises.ipynb",
      "provenance": [],
      "collapsed_sections": [],
      "include_colab_link": true
    },
    "kernelspec": {
      "name": "python3",
      "display_name": "Python 3"
    }
  },
  "cells": [
    {
      "cell_type": "markdown",
      "metadata": {
        "id": "view-in-github",
        "colab_type": "text"
      },
      "source": [
        "<a href=\"https://colab.research.google.com/github/yukinaga/minnano_ds/blob/main/section_3/04_exercises.ipynb\" target=\"_parent\"><img src=\"https://colab.research.google.com/assets/colab-badge.svg\" alt=\"Open In Colab\"/></a>"
      ]
    },
    {
      "cell_type": "markdown",
      "metadata": {
        "id": "9VR4iG1nkWLa"
      },
      "source": [
        "# 演習\n",
        "NumPyとmatplotlibの扱いに慣れていきましょう。\n",
        "\n"
      ]
    },
    {
      "cell_type": "markdown",
      "metadata": {
        "id": "Yqh1BS6Jzgy8"
      },
      "source": [
        "## `reshape`による配列形状の操作\n",
        "以下のコードを実行するとエラーが発生します。  \n",
        "`reshape`により配列`a`の形状を変更し、エラーが発生しないようにしてください。"
      ]
    },
    {
      "cell_type": "code",
      "metadata": {
        "id": "DFv4AIiT6Arx"
      },
      "source": [
        "import numpy as np\n",
        "\n",
        "a = np.array([0, 1, 2, 3, 4, 5])  # この配列の形状を、reshapeにより変更する\n",
        "b = np.array([[5, 4, 3], [2, 1, 0]]) \n",
        "\n",
        "# この下ににコードを書く\n",
        "\n",
        "\n",
        "print(a + b)"
      ],
      "execution_count": null,
      "outputs": []
    },
    {
      "cell_type": "markdown",
      "metadata": {
        "id": "bJfBwlcdq4-y"
      },
      "source": [
        "## 二次関数の描画\n",
        "以下の二次関数の曲線を、matplotlibを使って描画しましょう。  \n",
        "$$y=x^3-12x$$\n",
        "以下のセルのコードを補完してください。"
      ]
    },
    {
      "cell_type": "code",
      "metadata": {
        "id": "0nrE_FeYkJrp"
      },
      "source": [
        "import numpy as np\n",
        "import matplotlib.pyplot as plt\n",
        "\n",
        "x = np.linspace(-4, 4)\n",
        "# この下のコードを補完する\n",
        "y = \n",
        "\n",
        "plt.xlabel(\"x\")\n",
        "plt.ylabel(\"y\")\n",
        "plt.plot(x, y)\n",
        "plt.show()"
      ],
      "execution_count": null,
      "outputs": []
    },
    {
      "cell_type": "markdown",
      "metadata": {
        "id": "TmGJE24E-51R"
      },
      "source": [
        "# 解答例\n",
        "以下は解答例です。  \n",
        "どうしてもわからない時のみ、参考にしましょう。"
      ]
    },
    {
      "cell_type": "markdown",
      "metadata": {
        "id": "QeqlSHdi_lXE"
      },
      "source": [
        "## `reshape`による配列形状の操作"
      ]
    },
    {
      "cell_type": "code",
      "metadata": {
        "id": "zq_9P1oB3bN_"
      },
      "source": [
        "import numpy as np\n",
        "\n",
        "a = np.array([0, 1, 2, 3, 4, 5])  # この配列の形状を、reshapeにより変更する\n",
        "b = np.array([[5, 4, 3], [2, 1, 0]]) \n",
        "\n",
        "# この下ににコードを書く\n",
        "a = a.reshape(2, 3)\n",
        "\n",
        "print(a + b)"
      ],
      "execution_count": null,
      "outputs": []
    },
    {
      "cell_type": "markdown",
      "metadata": {
        "id": "XAjofnm3_nVZ"
      },
      "source": [
        "## 二次関数の描画"
      ]
    },
    {
      "cell_type": "code",
      "metadata": {
        "id": "YUyM2QW-_EOg"
      },
      "source": [
        "import numpy as np\n",
        "import matplotlib.pyplot as plt\n",
        "\n",
        "x = np.linspace(-4, 4)\n",
        "# この下のコードを保管する\n",
        "y = x**3 - 12*x\n",
        "\n",
        "plt.xlabel(\"x\")\n",
        "plt.ylabel(\"y\")\n",
        "plt.plot(x, y)\n",
        "plt.show()"
      ],
      "execution_count": null,
      "outputs": []
    }
  ]
}