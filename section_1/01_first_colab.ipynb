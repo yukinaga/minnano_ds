{
  "nbformat": 4,
  "nbformat_minor": 0,
  "metadata": {
    "colab": {
      "name": "01_first_colab.ipynb",
      "provenance": [],
      "collapsed_sections": [],
      "authorship_tag": "ABX9TyOiw3s+a9aDkM0iQFs0fL5z",
      "include_colab_link": true
    },
    "kernelspec": {
      "name": "python3",
      "display_name": "Python 3"
    }
  },
  "cells": [
    {
      "cell_type": "markdown",
      "metadata": {
        "id": "view-in-github",
        "colab_type": "text"
      },
      "source": [
        "<a href=\"https://colab.research.google.com/github/yukinaga/minnano_ds/blob/main/section_1/01_first_colab.ipynb\" target=\"_parent\"><img src=\"https://colab.research.google.com/assets/colab-badge.svg\" alt=\"Open In Colab\"/></a>"
      ]
    },
    {
      "cell_type": "code",
      "metadata": {
        "id": "G91Tk-wSFdBE"
      },
      "source": [
        "print(\"Hello World!\")"
      ],
      "execution_count": null,
      "outputs": []
    },
    {
      "cell_type": "code",
      "metadata": {
        "id": "rKFsMt5AjXkD"
      },
      "source": [
        "a = 3\n",
        "b = 4\n",
        "print(a + b)"
      ],
      "execution_count": null,
      "outputs": []
    },
    {
      "cell_type": "markdown",
      "metadata": {
        "id": "iBnSVC9jsMV9"
      },
      "source": [
        "**Python**でデータサイエンスのコードを書いていきましょう。  \n",
        "**Colab**には*コードセル*と*テキストセル*があります。\n",
        "\n",
        "1.   リスト項目\n",
        "2.   リスト項目\n",
        "3. 番号付きの箇条書きです\n",
        "\n",
        "*   リスト項目\n",
        "*   リスト項目\n",
        "* 箇条書きです\n",
        "\n",
        "[Google検索](https://google.com)\n",
        "\n",
        "# みんなのデータサイエンス講座\n",
        "## みんなのデータサイエンス講座\n",
        "### みんなのデータサイエンス講座\n",
        "#### みんなのデータサイエンス講座\n",
        "##### みんなのデータサイエンス講座"
      ]
    },
    {
      "cell_type": "markdown",
      "metadata": {
        "id": "qeENEIU5DK1x"
      },
      "source": [
        "$$ y = 2x + 1 $$"
      ]
    }
  ]
}