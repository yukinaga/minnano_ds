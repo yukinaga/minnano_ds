{
  "nbformat": 4,
  "nbformat_minor": 0,
  "metadata": {
    "colab": {
      "name": "02_k-means.ipynb",
      "provenance": [],
      "collapsed_sections": [],
      "include_colab_link": true
    },
    "kernelspec": {
      "name": "python3",
      "display_name": "Python 3"
    }
  },
  "cells": [
    {
      "cell_type": "markdown",
      "metadata": {
        "id": "view-in-github",
        "colab_type": "text"
      },
      "source": [
        "<a href=\"https://colab.research.google.com/github/yukinaga/minnano_ds/blob/main/section_5/02_k_means.ipynb\" target=\"_parent\"><img src=\"https://colab.research.google.com/assets/colab-badge.svg\" alt=\"Open In Colab\"/></a>"
      ]
    },
    {
      "cell_type": "markdown",
      "metadata": {
        "id": "8dhpRsYk_L_v"
      },
      "source": [
        "# k平均法\n",
        "k平均法はk-means clusteringとも呼ばれる教師なし学習の手法です。  \n",
        "「距離」に基づき、データをk個のクラスタに分類します。"
      ]
    },
    {
      "cell_type": "markdown",
      "metadata": {
        "id": "4zNzDOqrNIVk"
      },
      "source": [
        "## ●データセットの読み込み\n",
        "今回は、Irisデータセットを使用します。以下はこのデータセットの説明変数です。  \n",
        "\n",
        "sepal length (cm): がくの長さ  \n",
        "sepal width (cm): がくの幅  \n",
        "petal length (cm): 花弁の長さ\n",
        "petal width (cm): 花弁の幅  \n",
        "\n",
        "目的変数classは0から2の整数で、花の品種を表します。"
      ]
    },
    {
      "cell_type": "code",
      "metadata": {
        "id": "rX7kYcoy_Gfc"
      },
      "source": [
        "import pandas as pd\n",
        "import numpy as np\n",
        "from sklearn.cluster import KMeans\n",
        "from sklearn.datasets import load_iris\n",
        "\n",
        "iris = load_iris()\n",
        "iris_df = pd.DataFrame(iris.data, columns=iris.feature_names)  # data: 説明変数\n",
        "iris_df[\"class\"] = iris.target  # target: 目的変数\n",
        "iris_df.head()"
      ],
      "execution_count": null,
      "outputs": []
    },
    {
      "cell_type": "markdown",
      "metadata": {
        "id": "Yn1dXI0_WE3H"
      },
      "source": [
        "データセットの説明を表示します。"
      ]
    },
    {
      "cell_type": "code",
      "metadata": {
        "id": "DKRfxGGYiZVW"
      },
      "source": [
        "print(iris.DESCR)"
      ],
      "execution_count": null,
      "outputs": []
    },
    {
      "cell_type": "markdown",
      "metadata": {
        "id": "fHoJvcxfWVy9"
      },
      "source": [
        "各統計量を表示します。"
      ]
    },
    {
      "cell_type": "code",
      "metadata": {
        "id": "PKwNlDMdjOcY"
      },
      "source": [
        "iris_df.describe()"
      ],
      "execution_count": null,
      "outputs": []
    },
    {
      "cell_type": "markdown",
      "metadata": {
        "id": "EFvklrq6WeRa"
      },
      "source": [
        "ライブラリseabornの`pairplot`により、説明変数同士、及び説明変数と目的変数の関係を一覧表示します。"
      ]
    },
    {
      "cell_type": "code",
      "metadata": {
        "id": "do9NPhv_lRBy"
      },
      "source": [
        "import seaborn as sns\n",
        "\n",
        "sns.pairplot(iris_df, hue=\"class\")"
      ],
      "execution_count": null,
      "outputs": []
    },
    {
      "cell_type": "markdown",
      "metadata": {
        "id": "D2rq9llAX39C"
      },
      "source": [
        "## ●k平均法\n",
        "クラスタ分析はデータを似たもの同士グループ分けする分析ですが、k平均法はこのようなクラスタ分析の手法のひとつです。  \n",
        "以下の手順によりグループ分けが行われます。  \n",
        "\n",
        "1. 各サンプルに、ランダムにグループを割り当てる\n",
        "2. 各グループの重心を計算する。\n",
        "3. 各サンプルが属するグループを、一番重心が近いグループに変更する\n",
        "4. 変化がなくなれば終了。変化がある場合は 2. に戻る。\n",
        "\n",
        "以下のコードは、k平均法によりデータをグループ分けします。  \n",
        "品種の数に合わせて、クラスタの数を3に設定しています。"
      ]
    },
    {
      "cell_type": "code",
      "metadata": {
        "id": "pbBuaI-jdI8h"
      },
      "source": [
        "from sklearn.cluster import KMeans\n",
        "\n",
        "model = KMeans(n_clusters=3)\n",
        "model.fit(iris.data)"
      ],
      "execution_count": null,
      "outputs": []
    },
    {
      "cell_type": "markdown",
      "metadata": {
        "id": "y8raT1L0hVz4"
      },
      "source": [
        "グループ分けの結果を散布図で表示します。"
      ]
    },
    {
      "cell_type": "code",
      "metadata": {
        "id": "xDQaYGqslRqv"
      },
      "source": [
        "import matplotlib.pyplot as plt\n",
        "\n",
        "axis_1 = 2\n",
        "axis_2 = 3\n",
        "\n",
        "# ラベルが0のグループ\n",
        "group_0 = iris.data[model.labels_==0]\n",
        "plt.scatter(group_0[:, axis_1], group_0[:, axis_2], c=\"red\")\n",
        "\n",
        "# ラベルが1のグループ\n",
        "group_1 = iris.data[model.labels_==1]\n",
        "plt.scatter(group_1[:, axis_1], group_1[:, axis_2], c=\"blue\")\n",
        "\n",
        "# ラベルが2のグループ\n",
        "group_2 = iris.data[model.labels_==2]\n",
        "plt.scatter(group_2[:, axis_1], group_2[:, axis_2], c=\"green\")\n",
        "\n",
        "plt.xlabel(iris.feature_names[axis_1])\n",
        "plt.ylabel(iris.feature_names[axis_2])\n",
        "plt.show()"
      ],
      "execution_count": null,
      "outputs": []
    },
    {
      "cell_type": "markdown",
      "metadata": {
        "id": "_v9aZr1zoKzs"
      },
      "source": [
        "k平均法が機能し、グループ分けが行われたように見えます。  \n",
        "比較のため、元のデータセットのラベルを使ってグループ分けした結果を表示します。"
      ]
    },
    {
      "cell_type": "code",
      "metadata": {
        "id": "xN0tq3ETtEYC"
      },
      "source": [
        "axis_1 = 2\n",
        "axis_2 = 3\n",
        "\n",
        "# ラベルが0のグループ\n",
        "group_0 = iris.data[iris.target==0]\n",
        "plt.scatter(group_0[:, axis_1], group_0[:, axis_2], c=\"blue\")\n",
        "\n",
        "# ラベルが1のグループ\n",
        "group_1 = iris.data[iris.target==1]\n",
        "plt.scatter(group_1[:, axis_1], group_1[:, axis_2], c=\"red\")\n",
        "\n",
        "# ラベルが2のグループ\n",
        "group_2 = iris.data[iris.target==2]\n",
        "plt.scatter(group_2[:, axis_1], group_2[:, axis_2], c=\"green\")\n",
        "\n",
        "plt.xlabel(iris.feature_names[axis_1])\n",
        "plt.ylabel(iris.feature_names[axis_2])\n",
        "plt.show()"
      ],
      "execution_count": null,
      "outputs": []
    },
    {
      "cell_type": "markdown",
      "metadata": {
        "id": "gp27URlZqhhr"
      },
      "source": [
        "グループの境界が多少異なりますが、属すべきグループを大まかに捉えていることがわかります。"
      ]
    }
  ]
}