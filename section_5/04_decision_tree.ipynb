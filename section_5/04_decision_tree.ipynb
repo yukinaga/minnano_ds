{
  "nbformat": 4,
  "nbformat_minor": 0,
  "metadata": {
    "colab": {
      "name": "04_decision_tree.ipynb",
      "provenance": [],
      "collapsed_sections": [],
      "authorship_tag": "ABX9TyPAk0nVMpD/lNZczX5jO3Yt",
      "include_colab_link": true
    },
    "kernelspec": {
      "name": "python3",
      "display_name": "Python 3"
    },
    "language_info": {
      "name": "python"
    }
  },
  "cells": [
    {
      "cell_type": "markdown",
      "metadata": {
        "id": "view-in-github",
        "colab_type": "text"
      },
      "source": [
        "<a href=\"https://colab.research.google.com/github/yukinaga/minnano_ds/blob/main/section_5/04_decision_tree.ipynb\" target=\"_parent\"><img src=\"https://colab.research.google.com/assets/colab-badge.svg\" alt=\"Open In Colab\"/></a>"
      ]
    },
    {
      "cell_type": "markdown",
      "metadata": {
        "id": "owBFn-rt9aEa"
      },
      "source": [
        "# 決定木\n",
        "決定木（Decision Tree）では、木の枝のような構造を用いて分類を行います。  \n",
        "学習結果を視覚化が可能で、ルールを明確に表記できるというメリットがあります。"
      ]
    },
    {
      "cell_type": "markdown",
      "metadata": {
        "id": "4zNzDOqrNIVk"
      },
      "source": [
        "## ●データセットの読み込み\n",
        "今回は、Irisデータセットを使用します。以下はこのデータセットの説明変数です。  \n",
        "\n",
        "sepal length (cm): がくの長さ  \n",
        "sepal width (cm): がくの幅  \n",
        "petal length (cm): 花弁の長さ\n",
        "petal width (cm): 花弁の幅  \n",
        "\n",
        "目的変数classは0から2の整数で、花の品種を表します。"
      ]
    },
    {
      "cell_type": "code",
      "metadata": {
        "id": "gFc7koGcndjq"
      },
      "source": [
        "import numpy as np\n",
        "from sklearn.datasets import load_iris\n",
        "\n",
        "iris = load_iris()"
      ],
      "execution_count": null,
      "outputs": []
    },
    {
      "cell_type": "markdown",
      "metadata": {
        "id": "Q1h3k_f2BzEn"
      },
      "source": [
        "## ●決定木の実装\n",
        "`tree.DecisionTreeClassifier`により決定木のモデルを作成します。  "
      ]
    },
    {
      "cell_type": "code",
      "metadata": {
        "id": "PBaAxm7moTdg"
      },
      "source": [
        "from sklearn import tree\n",
        "\n",
        "model = tree.DecisionTreeClassifier(max_depth=3)"
      ],
      "execution_count": null,
      "outputs": []
    },
    {
      "cell_type": "markdown",
      "metadata": {
        "id": "F8PpgRYeCfa0"
      },
      "source": [
        "fitメソッドにより訓練が行われ、決定木が構築されます。 "
      ]
    },
    {
      "cell_type": "code",
      "metadata": {
        "id": "FOzlu2kICeE5"
      },
      "source": [
        "model = model.fit(iris.data, iris.target)"
      ],
      "execution_count": null,
      "outputs": []
    },
    {
      "cell_type": "markdown",
      "metadata": {
        "id": "64psRHcKCqk7"
      },
      "source": [
        "`predict`メソッドにより予測を行い、正解率を測定します。  "
      ]
    },
    {
      "cell_type": "code",
      "metadata": {
        "id": "r80i2UF-pAyL"
      },
      "source": [
        "predicted = model.predict(iris.data)\n",
        "print(\"正解率:\", sum(predicted == iris.target) / len(iris.target))"
      ],
      "execution_count": null,
      "outputs": []
    },
    {
      "cell_type": "markdown",
      "metadata": {
        "id": "b3Wpb3VbFEyU"
      },
      "source": [
        "`graphviz`と`pydotplus`を使い、決定木を可視化します。"
      ]
    },
    {
      "cell_type": "code",
      "metadata": {
        "id": "2ac1sqOLqZlq"
      },
      "source": [
        "import graphviz\n",
        "import pydotplus\n",
        "from IPython.display import Image\n",
        "\n",
        "dot_str = tree.export_graphviz(\n",
        "    model,\n",
        "    feature_names=iris.feature_names, \n",
        "    out_file=None,  \n",
        "    filled=True,\n",
        "    rounded=True\n",
        "    ) \n",
        "graph = pydotplus.graph_from_dot_data(dot_str) \n",
        "\n",
        "file_name = \"iris_tree.png\"\n",
        "graph.write_png(file_name)\n",
        "Image(file_name)"
      ],
      "execution_count": null,
      "outputs": []
    }
  ]
}