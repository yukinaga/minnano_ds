{
  "nbformat": 4,
  "nbformat_minor": 0,
  "metadata": {
    "colab": {
      "name": "03_svm.ipynb",
      "provenance": [],
      "collapsed_sections": [],
      "include_colab_link": true
    },
    "kernelspec": {
      "name": "python3",
      "display_name": "Python 3"
    }
  },
  "cells": [
    {
      "cell_type": "markdown",
      "metadata": {
        "id": "view-in-github",
        "colab_type": "text"
      },
      "source": [
        "<a href=\"https://colab.research.google.com/github/yukinaga/minnano_ds/blob/main/section_5/03_svm.ipynb\" target=\"_parent\"><img src=\"https://colab.research.google.com/assets/colab-badge.svg\" alt=\"Open In Colab\"/></a>"
      ]
    },
    {
      "cell_type": "markdown",
      "metadata": {
        "id": "StHBIInDHOFT"
      },
      "source": [
        "# サポートベクターマシン\n",
        "サポートベクターマシン（Support Vector Machine、SVM）とは、パターン識別のための教師あり機械学習の手法です。  \n",
        "「マージン最大化」というアイディアに基づいているのですが、しばしば優れたパターン識別能力を発揮します。\n",
        "\n"
      ]
    },
    {
      "cell_type": "markdown",
      "metadata": {
        "id": "XTWQ-vdIgF0x"
      },
      "source": [
        "## ●データセットの読み込み\n",
        "今回は、scikit-learnに含まれるワインのデータセットを使用します。  \n",
        "説明変数は様々なワインの特徴で、アルコール濃度(alcohol)やリンゴ酸濃度(malic_acid)などがあります。  \n",
        "目的変数classは、0から2の整数でワイン品種を表します。"
      ]
    },
    {
      "cell_type": "code",
      "metadata": {
        "id": "wSIAHXrCF0Af"
      },
      "source": [
        "import pandas as pd\n",
        "import numpy as np\n",
        "from sklearn.datasets import load_wine\n",
        "\n",
        "wine = load_wine()\n",
        "wine_df = pd.DataFrame(wine.data, columns=wine.feature_names)  # data: 説明変数\n",
        "wine_df[\"class\"] = wine.target  # target: 目的変数\n",
        "wine_df.head()"
      ],
      "execution_count": null,
      "outputs": []
    },
    {
      "cell_type": "markdown",
      "metadata": {
        "id": "Yn1dXI0_WE3H"
      },
      "source": [
        "データセットの説明を表示します。"
      ]
    },
    {
      "cell_type": "code",
      "metadata": {
        "id": "DKRfxGGYiZVW"
      },
      "source": [
        "print(wine.DESCR)"
      ],
      "execution_count": null,
      "outputs": []
    },
    {
      "cell_type": "markdown",
      "metadata": {
        "id": "fHoJvcxfWVy9"
      },
      "source": [
        "各統計量を表示します。"
      ]
    },
    {
      "cell_type": "code",
      "metadata": {
        "id": "PKwNlDMdjOcY"
      },
      "source": [
        "wine_df.describe()"
      ],
      "execution_count": null,
      "outputs": []
    },
    {
      "cell_type": "markdown",
      "metadata": {
        "id": "EFvklrq6WeRa"
      },
      "source": [
        "ライブラリseabornの`pairplot`により、説明変数同士、及び説明変数と目的変数の関係を一覧表示します。"
      ]
    },
    {
      "cell_type": "code",
      "metadata": {
        "id": "do9NPhv_lRBy"
      },
      "source": [
        "import seaborn as sns\n",
        "\n",
        "sns.pairplot(wine_df, hue=\"class\")"
      ],
      "execution_count": null,
      "outputs": []
    },
    {
      "cell_type": "markdown",
      "metadata": {
        "id": "lJG8oUcYk5Gh"
      },
      "source": [
        "## ●SVMの実装\n",
        "サポートベクターマシンを使い、ワインの分類を行います。  \n",
        "まずは、データセットを訓練用のデータとテスト用のデータに分割します。  \n",
        "その上で、StandardScalerを使って標準化し、平均値が0、標準偏差が1になるようにします。  \n",
        "https://scikit-learn.org/stable/modules/generated/sklearn.preprocessing.StandardScaler.html"
      ]
    },
    {
      "cell_type": "code",
      "metadata": {
        "id": "s863YjtLirbM"
      },
      "source": [
        "from sklearn.model_selection import train_test_split\n",
        "from sklearn.preprocessing import StandardScaler\n",
        "\n",
        "# 訓練データとテストデータに分割\n",
        "x_train, x_test, t_train, t_test = train_test_split(wine.data, wine.target, random_state=0) \n",
        "\n",
        "# データの標準化\n",
        "std_scl = StandardScaler()\n",
        "std_scl.fit(x_train)\n",
        "x_train = std_scl.transform(x_train)\n",
        "x_test = std_scl.transform(x_test)"
      ],
      "execution_count": null,
      "outputs": []
    },
    {
      "cell_type": "markdown",
      "metadata": {
        "id": "BCkDkZnZoW6c"
      },
      "source": [
        "今回は、線形サポートベクターマシンを使い、超平面によりデータを分類します。  \n",
        "fitメソッドにより訓練が行われ、超平面が決定されます。 "
      ]
    },
    {
      "cell_type": "code",
      "metadata": {
        "id": "UuWppYA_oWLD"
      },
      "source": [
        "from sklearn.svm import LinearSVC  # 線形ベクターマシン\n",
        "\n",
        "model = LinearSVC(random_state=0)\n",
        "\n",
        "# 全ての説明変数を使い学習\n",
        "model.fit(x_train, t_train)"
      ],
      "execution_count": null,
      "outputs": []
    },
    {
      "cell_type": "markdown",
      "metadata": {
        "id": "Ns0IkfFSyP8i"
      },
      "source": [
        "訓練済みのモデルを使い、訓練データ及びテストデータで予測を行います。  \n",
        "そして、その正解率を測定します。  "
      ]
    },
    {
      "cell_type": "code",
      "metadata": {
        "id": "ksPOw4gyqzDO"
      },
      "source": [
        "from sklearn.metrics import accuracy_score\n",
        "\n",
        "# 予測結果\n",
        "y_train = model.predict(x_train)\n",
        "y_test = model.predict(x_test)\n",
        "print(y_train, y_test)\n",
        "\n",
        "# 正解率\n",
        "acc_train = accuracy_score(t_train, y_train)\n",
        "acc_test = accuracy_score(t_test, y_test)\n",
        "print(acc_train, acc_test)"
      ],
      "execution_count": null,
      "outputs": []
    },
    {
      "cell_type": "markdown",
      "metadata": {
        "id": "VdXP0yzMyhSV"
      },
      "source": [
        "テストデータのグループ分け結果を、matplotlibの散布図で表示します。  \n",
        "x軸をアルコール濃度、y軸をリンゴ酸濃度として、グループ分けの結果を表示しましょう。"
      ]
    },
    {
      "cell_type": "code",
      "metadata": {
        "id": "3Gs2EVkvtncX"
      },
      "source": [
        "import matplotlib.pyplot as plt\n",
        "\n",
        "axis_1 = 0\n",
        "axis_2 = 1\n",
        "\n",
        "x = np.concatenate([x_train, x_test])\n",
        "y = np.concatenate([y_train, y_test])\n",
        "t = np.concatenate([t_train, t_test])\n",
        "\n",
        "# 0にクラス分類されたグループ\n",
        "group_0 = x[y==0]\n",
        "plt.scatter(group_0[:, axis_1], group_0[:, axis_2], c=\"blue\")\n",
        "\n",
        "# 1にクラス分類されたグループ\n",
        "group_1 = x[y==1]\n",
        "plt.scatter(group_1[:, axis_1], group_1[:, axis_2], c=\"red\")\n",
        "\n",
        "# 2にクラス分類されたグループ\n",
        "group_2 = x[y==2]\n",
        "plt.scatter(group_2[:, axis_1], group_2[:, axis_2], c=\"green\")\n",
        "\n",
        "plt.xlabel(wine.feature_names[axis_1])\n",
        "plt.ylabel(wine.feature_names[axis_2])\n",
        "plt.show()"
      ],
      "execution_count": null,
      "outputs": []
    },
    {
      "cell_type": "markdown",
      "metadata": {
        "id": "WAy6JF5Vy5rG"
      },
      "source": [
        "分類機の訓練には訓練データを使用しましたが、訓練済みの分類機はテストデータ　に対しても機能しているようです。  \n",
        "適切に訓練が行われれば、サポートベクターマシンの分類器は高い分類能力を発揮します。"
      ]
    }
  ]
}