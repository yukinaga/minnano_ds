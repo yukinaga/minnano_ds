{
  "nbformat": 4,
  "nbformat_minor": 0,
  "metadata": {
    "colab": {
      "name": "05_exercises.ipynb",
      "provenance": [],
      "collapsed_sections": [],
      "include_colab_link": true
    },
    "kernelspec": {
      "name": "python3",
      "display_name": "Python 3"
    }
  },
  "cells": [
    {
      "cell_type": "markdown",
      "metadata": {
        "id": "view-in-github",
        "colab_type": "text"
      },
      "source": [
        "<a href=\"https://colab.research.google.com/github/yukinaga/minnano_ds/blob/main/section_5/05_exercises.ipynb\" target=\"_parent\"><img src=\"https://colab.research.google.com/assets/colab-badge.svg\" alt=\"Open In Colab\"/></a>"
      ]
    },
    {
      "cell_type": "markdown",
      "metadata": {
        "id": "9VR4iG1nkWLa"
      },
      "source": [
        "# 演習\n",
        "お好きな機械学習の手法を使って、乳がんを診断するモデルを構築しましょう。\n",
        "\n"
      ]
    },
    {
      "cell_type": "markdown",
      "metadata": {
        "id": "Yqh1BS6Jzgy8"
      },
      "source": [
        "## ●データセットの読み込み\n",
        "今回は、scikit-learnに含まれる乳がん診断のデータセットを使用します。"
      ]
    },
    {
      "cell_type": "code",
      "metadata": {
        "id": "JJkfrPbpR9kd"
      },
      "source": [
        "import pandas as pd\n",
        "import numpy as np\n",
        "from sklearn.datasets import load_breast_cancer\n",
        "\n",
        "bc = load_breast_cancer()\n",
        "bc_df = pd.DataFrame(bc.data, columns=bc.feature_names)  # data: 説明変数\n",
        "bc_df[\"class\"] = bc.target  # target: 目的変数\n",
        "bc_df.head()"
      ],
      "execution_count": null,
      "outputs": []
    },
    {
      "cell_type": "markdown",
      "metadata": {
        "id": "Yn1dXI0_WE3H"
      },
      "source": [
        "データセットの説明を表示します。"
      ]
    },
    {
      "cell_type": "code",
      "metadata": {
        "id": "DKRfxGGYiZVW"
      },
      "source": [
        "print(bc.DESCR)"
      ],
      "execution_count": null,
      "outputs": []
    },
    {
      "cell_type": "markdown",
      "metadata": {
        "id": "fHoJvcxfWVy9"
      },
      "source": [
        "各統計量を表示します。"
      ]
    },
    {
      "cell_type": "code",
      "metadata": {
        "id": "PKwNlDMdjOcY"
      },
      "source": [
        "bc_df.describe()"
      ],
      "execution_count": null,
      "outputs": []
    },
    {
      "cell_type": "markdown",
      "metadata": {
        "id": "EFvklrq6WeRa"
      },
      "source": [
        "ライブラリseabornの`pairplot`により、説明変数同士、及び説明変数と目的変数の関係を一覧表示します。"
      ]
    },
    {
      "cell_type": "code",
      "metadata": {
        "id": "do9NPhv_lRBy"
      },
      "source": [
        "import seaborn as sns\n",
        "\n",
        "sns.pairplot(bc_df, hue=\"class\")"
      ],
      "execution_count": null,
      "outputs": []
    },
    {
      "cell_type": "markdown",
      "metadata": {
        "id": "E4JbBdLcV8L3"
      },
      "source": [
        "## ●モデルの構築 \n",
        "まずは、データセットを訓練用のデータとテスト用のデータに分割し、標準化します。"
      ]
    },
    {
      "cell_type": "code",
      "metadata": {
        "id": "JJDse2hwWD0p"
      },
      "source": [
        "from sklearn.model_selection import train_test_split\n",
        "from sklearn.preprocessing import StandardScaler\n",
        "\n",
        "# 訓練データとテストデータに分割\n",
        "x_train, x_test, t_train, t_test = train_test_split(bc.data, bc.target, random_state=0) \n",
        "\n",
        "# データの標準化\n",
        "std_scl = StandardScaler()\n",
        "std_scl.fit(x_train)\n",
        "x_train = std_scl.transform(x_train)\n",
        "x_test = std_scl.transform(x_test)"
      ],
      "execution_count": null,
      "outputs": []
    },
    {
      "cell_type": "markdown",
      "metadata": {
        "id": "acQOF2NAWHwm"
      },
      "source": [
        "以下のセルに、機械学習のモデルを構築するコードを記述しましょう。  \n",
        "お好きな機械学習の手法を使って構いません。"
      ]
    },
    {
      "cell_type": "code",
      "metadata": {
        "id": "d0tGmIVNWRJ0"
      },
      "source": [
        "from sklearn.svm import   # ←ここにコードを追記する\n",
        "\n",
        "model =   # ←ここにコードを記述する \n",
        "\n",
        "# モデルの訓練\n",
        "  # ←ここにコードを記述する"
      ],
      "execution_count": null,
      "outputs": []
    },
    {
      "cell_type": "markdown",
      "metadata": {
        "id": "5lD7qfZ_WOmC"
      },
      "source": [
        "訓練済みのモデルを使い、訓練データ及びテストデータで予測を行います。  \n",
        "そして、その正解率を測定します。  "
      ]
    },
    {
      "cell_type": "code",
      "metadata": {
        "id": "ysvpN8yeX2Uh"
      },
      "source": [
        "from sklearn.metrics import accuracy_score\n",
        "\n",
        "# 予測結果\n",
        "y_train = model.predict(x_train)\n",
        "y_test = model.predict(x_test)\n",
        "print(y_train, y_test)\n",
        "\n",
        "# 正解率\n",
        "acc_train = accuracy_score(t_train, y_train)\n",
        "acc_test = accuracy_score(t_test, y_test)\n",
        "print(acc_train, acc_test)"
      ],
      "execution_count": null,
      "outputs": []
    },
    {
      "cell_type": "markdown",
      "metadata": {
        "id": "TmGJE24E-51R"
      },
      "source": [
        "# 解答例\n",
        "以下は解答例です。  \n",
        "どうしてもわからない時のみ、参考にしましょう。"
      ]
    },
    {
      "cell_type": "code",
      "metadata": {
        "id": "5J3F0Rb3V7AI"
      },
      "source": [
        "from sklearn.svm import LinearSVC  # ←ここにコードを追記する\n",
        "\n",
        "model = LinearSVC(random_state=0)  # ←ここにコードを記述する \n",
        "\n",
        "# モデルの訓練\n",
        "model.fit(x_train, t_train)  # ←ここにコードを記述する"
      ],
      "execution_count": null,
      "outputs": []
    }
  ]
}